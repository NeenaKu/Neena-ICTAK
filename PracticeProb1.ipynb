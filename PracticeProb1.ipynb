{
  "nbformat": 4,
  "nbformat_minor": 0,
  "metadata": {
    "colab": {
      "provenance": []
    },
    "kernelspec": {
      "name": "python3",
      "display_name": "Python 3"
    },
    "language_info": {
      "name": "python"
    }
  },
  "cells": [
    {
      "cell_type": "code",
      "execution_count": 9,
      "metadata": {
        "colab": {
          "base_uri": "https://localhost:8080/"
        },
        "id": "dTw4AGHuAp2p",
        "outputId": "b2d8faba-3d2c-4ae9-e834-27665df1c11a"
      },
      "outputs": [
        {
          "output_type": "stream",
          "name": "stdout",
          "text": [
            "enter the radius3\n",
            "area of the circle is 28.26\n"
          ]
        }
      ],
      "source": [
        "r=float(input('enter the radius'))\n",
        "area=float(3.14*r**2)\n",
        "print ('area of the circle is', area)"
      ]
    },
    {
      "cell_type": "code",
      "source": [
        "Name=input('Enter the name')\n",
        "Roll_No=input('Enter the roll number')\n",
        "Mark=input('Enter the mark')\n",
        "print('Name:', Name)\n",
        "print('Roll No:',Roll_No)\n",
        "print('Mark:', Mark)\n"
      ],
      "metadata": {
        "colab": {
          "base_uri": "https://localhost:8080/"
        },
        "id": "uPmQuziFCxbT",
        "outputId": "db81b70b-7b69-464c-a57b-857e15cf6eae"
      },
      "execution_count": 11,
      "outputs": [
        {
          "output_type": "stream",
          "name": "stdout",
          "text": [
            "Enter the nameAnisha\n",
            "Enter the roll number21\n",
            "Enter the mark78\n",
            "Name: Anisha\n",
            "Roll No: 21\n",
            "Mark: 78\n"
          ]
        }
      ]
    },
    {
      "cell_type": "code",
      "source": [
        "sample_list=[12,3,47,10]\n",
        "max1=max(sample_list)\n",
        "print (max1,'is the largest number')"
      ],
      "metadata": {
        "colab": {
          "base_uri": "https://localhost:8080/"
        },
        "id": "GxwgvYevERg3",
        "outputId": "30818f52-9548-4a3a-a18e-7eeefe742847"
      },
      "execution_count": 20,
      "outputs": [
        {
          "output_type": "stream",
          "name": "stdout",
          "text": [
            "47 is the largest number\n"
          ]
        }
      ]
    },
    {
      "cell_type": "code",
      "source": [
        "i=range(0,10)\n",
        "for previous_number in i:\n",
        "   current_number=previous_number+1\n",
        "   sum=current_number+previous_number\n",
        "   print('current number ',current_number,'previous number ',previous_number,'sum: ',sum)"
      ],
      "metadata": {
        "colab": {
          "base_uri": "https://localhost:8080/"
        },
        "id": "qcISaLi8F6C3",
        "outputId": "3e0fe2f2-ee0d-4b64-c9fd-31b5b52f235e"
      },
      "execution_count": 49,
      "outputs": [
        {
          "output_type": "stream",
          "name": "stdout",
          "text": [
            "current number  1 previous number  0 sum:  1\n",
            "current number  2 previous number  1 sum:  3\n",
            "current number  3 previous number  2 sum:  5\n",
            "current number  4 previous number  3 sum:  7\n",
            "current number  5 previous number  4 sum:  9\n",
            "current number  6 previous number  5 sum:  11\n",
            "current number  7 previous number  6 sum:  13\n",
            "current number  8 previous number  7 sum:  15\n",
            "current number  9 previous number  8 sum:  17\n",
            "current number  10 previous number  9 sum:  19\n"
          ]
        }
      ]
    },
    {
      "cell_type": "code",
      "source": [
        "s=[10,20,33,46,55]\n",
        "for i in s:\n",
        "    if i%5==0:\n",
        "      print (i)\n",
        ""
      ],
      "metadata": {
        "colab": {
          "base_uri": "https://localhost:8080/"
        },
        "id": "wZeXic7TKElV",
        "outputId": "5f41ffcd-4843-48a6-bad9-e2d9e8860f1b"
      },
      "execution_count": 73,
      "outputs": [
        {
          "output_type": "stream",
          "name": "stdout",
          "text": [
            "10\n",
            "20\n",
            "55\n"
          ]
        }
      ]
    },
    {
      "cell_type": "code",
      "source": [
        "list_1=[10,40,30,70]\n",
        "list_1.reverse()\n",
        "list_1\n",
        "\n",
        "\n"
      ],
      "metadata": {
        "colab": {
          "base_uri": "https://localhost:8080/"
        },
        "id": "GKXF7hdNLkNO",
        "outputId": "0c32468c-37d3-4deb-9b81-2dbde96fa932"
      },
      "execution_count": 82,
      "outputs": [
        {
          "output_type": "execute_result",
          "data": {
            "text/plain": [
              "[70, 30, 40, 10]"
            ]
          },
          "metadata": {},
          "execution_count": 82
        }
      ]
    },
    {
      "cell_type": "code",
      "source": [
        "i=range(1,5)\n",
        "for b in i:\n",
        "  if b<5:\n",
        "    print('x'*b)\n",
        "\n",
        "\n",
        ""
      ],
      "metadata": {
        "colab": {
          "base_uri": "https://localhost:8080/"
        },
        "id": "Ff1okMQtObqX",
        "outputId": "a3d3c96a-4a6c-4ad1-8c11-2a08477f4b99"
      },
      "execution_count": 99,
      "outputs": [
        {
          "output_type": "stream",
          "name": "stdout",
          "text": [
            "x\n",
            "xx\n",
            "xxx\n",
            "xxxx\n"
          ]
        }
      ]
    },
    {
      "cell_type": "code",
      "source": [
        "numbers=[34,12,7]\n",
        "print(max(numbers))"
      ],
      "metadata": {
        "colab": {
          "base_uri": "https://localhost:8080/"
        },
        "id": "okqI--R0QPIx",
        "outputId": "d6024355-3808-41ba-bd61-701353d1ff4b"
      },
      "execution_count": 100,
      "outputs": [
        {
          "output_type": "stream",
          "name": "stdout",
          "text": [
            "34\n"
          ]
        }
      ]
    },
    {
      "cell_type": "code",
      "source": [
        "i=range(1,5)\n",
        "for b in i:\n",
        "  if b<5:\n",
        "    print('x'*b)\n",
        "if b==5:\n",
        "  print('x'*b)\n",
        "  b=b-1"
      ],
      "metadata": {
        "colab": {
          "base_uri": "https://localhost:8080/"
        },
        "id": "HtdHxkWJQsZZ",
        "outputId": "46cd92da-a3b3-42cf-e7cb-7178333e8e0b"
      },
      "execution_count": 111,
      "outputs": [
        {
          "output_type": "stream",
          "name": "stdout",
          "text": [
            "x\n",
            "xx\n",
            "xxx\n",
            "xxxx\n"
          ]
        }
      ]
    }
  ]
}
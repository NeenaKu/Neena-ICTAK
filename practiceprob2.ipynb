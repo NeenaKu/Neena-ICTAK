{
  "nbformat": 4,
  "nbformat_minor": 0,
  "metadata": {
    "colab": {
      "provenance": []
    },
    "kernelspec": {
      "name": "python3",
      "display_name": "Python 3"
    },
    "language_info": {
      "name": "python"
    }
  },
  "cells": [
    {
      "cell_type": "code",
      "source": [
        "# Prob 1\n",
        "value=input('enter a word:')\n",
        "for i in value:\n",
        "    number=value.count(i)\n",
        "    print(i,':',number)\n",
        ""
      ],
      "metadata": {
        "colab": {
          "base_uri": "https://localhost:8080/"
        },
        "id": "63hfLnR1ms8F",
        "outputId": "febe0573-f956-4caf-a29a-5b071f2a5506"
      },
      "execution_count": 34,
      "outputs": [
        {
          "output_type": "stream",
          "name": "stdout",
          "text": [
            "enter a word:sweet\n",
            "s : 1\n",
            "w : 1\n",
            "e : 2\n",
            "e : 2\n",
            "t : 1\n"
          ]
        }
      ]
    },
    {
      "cell_type": "code",
      "source": [
        "# Prob 2\n",
        "def maximum(x,y,z):\n",
        "  if x>y and x>z:\n",
        "   print(x)\n",
        "  elif y>z:\n",
        "    print (y)\n",
        "  else:\n",
        "      print(z)\n",
        "\n",
        "maximum(34,78,12)\n",
        "\n"
      ],
      "metadata": {
        "colab": {
          "base_uri": "https://localhost:8080/"
        },
        "id": "2wCGBaWmz6nc",
        "outputId": "c53255ac-3a75-490b-ed63-44937a59f9f4"
      },
      "execution_count": 28,
      "outputs": [
        {
          "output_type": "stream",
          "name": "stdout",
          "text": [
            "78\n"
          ]
        }
      ]
    },
    {
      "cell_type": "code",
      "source": [
        "# Prob 3\n",
        "def exponent(base,exp):\n",
        "    result=base**exp\n",
        "    print (result)\n",
        "\n",
        "exponent(2,3)"
      ],
      "metadata": {
        "colab": {
          "base_uri": "https://localhost:8080/"
        },
        "id": "M0x_b3SKCq9U",
        "outputId": "16a84ac9-88f8-4f1a-fa74-b43c25eb43ea"
      },
      "execution_count": 36,
      "outputs": [
        {
          "output_type": "stream",
          "name": "stdout",
          "text": [
            "8\n"
          ]
        }
      ]
    },
    {
      "cell_type": "code",
      "source": [
        "# Prob 4\n",
        "def summation(x):\n",
        " summ=0\n",
        " for i in x:\n",
        "    cube=i**3\n",
        "    summ+=cube\n",
        "    i+=1\n",
        " print(summ)\n",
        "\n",
        "\n"
      ],
      "metadata": {
        "id": "An8g6IkAEMM6"
      },
      "execution_count": 70,
      "outputs": []
    },
    {
      "cell_type": "code",
      "source": [
        "# Prob 5\n",
        "for i in range(1,11):\n",
        "  if i%2==0 and i%5==0:\n",
        "   print('FizzBuzz')\n",
        "  elif i%5==0:\n",
        "    print('Buzz')\n",
        "  elif i%2==0:\n",
        "    print('Fizz')\n",
        "  else:\n",
        "    print(i)\n"
      ],
      "metadata": {
        "colab": {
          "base_uri": "https://localhost:8080/"
        },
        "id": "g1GIbtPXI_J1",
        "outputId": "a6457387-3db7-4d86-831a-5cb4f37c6b44"
      },
      "execution_count": 93,
      "outputs": [
        {
          "output_type": "stream",
          "name": "stdout",
          "text": [
            "1\n",
            "Fizz\n",
            "3\n",
            "Fizz\n",
            "Buzz\n",
            "Fizz\n",
            "7\n",
            "Fizz\n",
            "9\n",
            "FizzBuzz\n"
          ]
        }
      ]
    },
    {
      "cell_type": "code",
      "source": [
        "# Prob 8\n",
        "for i in range(1,16):\n",
        "   if i%2==0:\n",
        "    print(i,'-','even')\n",
        "   else:\n",
        "    print(i,'-','odd')\n",
        "    i+=1\n",
        ""
      ],
      "metadata": {
        "colab": {
          "base_uri": "https://localhost:8080/"
        },
        "id": "cNw-opwtN1up",
        "outputId": "99931e43-5622-475c-b5ba-61cd911266c7"
      },
      "execution_count": 111,
      "outputs": [
        {
          "output_type": "stream",
          "name": "stdout",
          "text": [
            "1 - odd\n",
            "2 - even\n",
            "3 - odd\n",
            "4 - even\n",
            "5 - odd\n",
            "6 - even\n",
            "7 - odd\n",
            "8 - even\n",
            "9 - odd\n",
            "10 - even\n",
            "11 - odd\n",
            "12 - even\n",
            "13 - odd\n",
            "14 - even\n",
            "15 - odd\n"
          ]
        }
      ]
    },
    {
      "cell_type": "code",
      "source": [
        "# Prob 9\n",
        "def Celsius():\n",
        "    F=int(input('enter temperature in Fahrenheit'))\n",
        "    C=(F-32)*(5/9)\n",
        "    print(C)\n",
        "\n",
        "Celsius()"
      ],
      "metadata": {
        "colab": {
          "base_uri": "https://localhost:8080/"
        },
        "id": "puNmH7apUpUA",
        "outputId": "45db054c-3c6b-4ccd-dcc4-ffa8230ce6c2"
      },
      "execution_count": 114,
      "outputs": [
        {
          "output_type": "stream",
          "name": "stdout",
          "text": [
            "enter temperature in Fahrenheit41\n",
            "5.0\n"
          ]
        }
      ]
    },
    {
      "cell_type": "code",
      "source": [
        "# Prob 10\n",
        "def Factorial():\n",
        "    num=int(input('enter a number'))\n",
        "    for i in range(1,num+1):\n",
        "       Fac=i*(i+1)\n",
        "       i+=1\n",
        "    print(Fac)\n",
        "\n",
        "Factorial()\n"
      ],
      "metadata": {
        "colab": {
          "base_uri": "https://localhost:8080/"
        },
        "id": "yqysh-tWWUkE",
        "outputId": "d481ae80-c3b1-4322-dc75-a3e40c2d98f4"
      },
      "execution_count": 150,
      "outputs": [
        {
          "output_type": "stream",
          "name": "stdout",
          "text": [
            "enter a number3\n",
            "12\n"
          ]
        }
      ]
    }
  ]
}